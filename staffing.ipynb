{
 "cells": [
  {
   "cell_type": "code",
   "execution_count": 1,
   "id": "6da3da51-8f75-48ba-a5fc-2b8c1c67fa20",
   "metadata": {},
   "outputs": [
    {
     "name": "stderr",
     "output_type": "stream",
     "text": [
      "2024-07-31 03:29:43.065880: I tensorflow/core/platform/cpu_feature_guard.cc:193] This TensorFlow binary is optimized with oneAPI Deep Neural Network Library (oneDNN) to use the following CPU instructions in performance-critical operations:  SSE4.1 SSE4.2 AVX AVX2 FMA\n",
      "To enable them in other operations, rebuild TensorFlow with the appropriate compiler flags.\n"
     ]
    }
   ],
   "source": [
    "import os\n",
    "import re\n",
    "import string\n",
    "import numpy as np\n",
    "import scipy as sp\n",
    "import pandas as pd\n",
    "import tensorflow as tf\n",
    "from tensorflow import keras\n",
    "from tensorflow.keras import layers\n",
    "from sklearn.utils import shuffle\n",
    "import matplotlib.pyplot as plt\n",
    "import matplotlib.colors as mcolors\n",
    "# Custom functions\n",
    "import python.custom_functions as cfns"
   ]
  },
  {
   "cell_type": "code",
   "execution_count": 2,
   "id": "90cff66a-bab4-4b7b-96fd-ffa2b41442ce",
   "metadata": {},
   "outputs": [],
   "source": [
    "path = os.getcwd()"
   ]
  },
  {
   "cell_type": "markdown",
   "id": "cad84ad2-6d28-4410-bbe4-1a5f24830bd7",
   "metadata": {},
   "source": [
    "# Hospital staffing\n",
    "\n",
    "The dataset we use is provided courtesy of Department of Healthcare Access and Information of California which can be found downloaded from <a href=https://data.chhs.ca.gov/dataset/hospital-staffing-2009-2013> here </a>."
   ]
  },
  {
   "cell_type": "code",
   "execution_count": 3,
   "id": "2fa677cc-f072-4a11-a624-cec6ea1aaf99",
   "metadata": {},
   "outputs": [],
   "source": [
    "# Import dataset download link from file\n",
    "with open(path+'/datasets/dataset.url', 'r') as file:\n",
    "    ds_link = file.read()\n",
    "\n",
    "# Download dataset\n",
    "if not os.path.exists(path+'/datasets/'+ds_link.split('/')[-1]):\n",
    "    tf.keras.utils.get_file(ds_link.split('/')[-1],\n",
    "                            ds_link, \n",
    "                            cache_dir='./',\n",
    "                            cache_subdir='datasets')"
   ]
  },
  {
   "cell_type": "code",
   "execution_count": 4,
   "id": "3dc1771f-d6df-4c3c-99fc-70bf9cc59e60",
   "metadata": {},
   "outputs": [
    {
     "data": {
      "text/html": [
       "<div>\n",
       "<style scoped>\n",
       "    .dataframe tbody tr th:only-of-type {\n",
       "        vertical-align: middle;\n",
       "    }\n",
       "\n",
       "    .dataframe tbody tr th {\n",
       "        vertical-align: top;\n",
       "    }\n",
       "\n",
       "    .dataframe thead th {\n",
       "        text-align: right;\n",
       "    }\n",
       "</style>\n",
       "<table border=\"1\" class=\"dataframe\">\n",
       "  <thead>\n",
       "    <tr style=\"text-align: right;\">\n",
       "      <th></th>\n",
       "      <th>Year</th>\n",
       "      <th>Facility Number</th>\n",
       "      <th>Facility Name</th>\n",
       "      <th>Begin Date</th>\n",
       "      <th>End Date</th>\n",
       "      <th>County Name</th>\n",
       "      <th>Type of Control</th>\n",
       "      <th>Hours Type</th>\n",
       "      <th>Productive Hours</th>\n",
       "      <th>Productive Hours per Adjusted Patient Day</th>\n",
       "    </tr>\n",
       "  </thead>\n",
       "  <tbody>\n",
       "    <tr>\n",
       "      <th>0</th>\n",
       "      <td>2009</td>\n",
       "      <td>106010735.0</td>\n",
       "      <td>ALAMEDA HOSPITAL</td>\n",
       "      <td>07/01/2008</td>\n",
       "      <td>06/30/2009</td>\n",
       "      <td>Alameda</td>\n",
       "      <td>District</td>\n",
       "      <td>Management &amp; Supervision</td>\n",
       "      <td>63558</td>\n",
       "      <td>1.17</td>\n",
       "    </tr>\n",
       "    <tr>\n",
       "      <th>1</th>\n",
       "      <td>2009</td>\n",
       "      <td>106010735.0</td>\n",
       "      <td>ALAMEDA HOSPITAL</td>\n",
       "      <td>07/01/2008</td>\n",
       "      <td>06/30/2009</td>\n",
       "      <td>Alameda</td>\n",
       "      <td>District</td>\n",
       "      <td>Technician &amp; Specialist</td>\n",
       "      <td>163706</td>\n",
       "      <td>3.02</td>\n",
       "    </tr>\n",
       "    <tr>\n",
       "      <th>2</th>\n",
       "      <td>2009</td>\n",
       "      <td>106010735.0</td>\n",
       "      <td>ALAMEDA HOSPITAL</td>\n",
       "      <td>07/01/2008</td>\n",
       "      <td>06/30/2009</td>\n",
       "      <td>Alameda</td>\n",
       "      <td>District</td>\n",
       "      <td>Registered Nurse</td>\n",
       "      <td>180034</td>\n",
       "      <td>3.32</td>\n",
       "    </tr>\n",
       "  </tbody>\n",
       "</table>\n",
       "</div>"
      ],
      "text/plain": [
       "   Year  Facility Number     Facility Name  Begin Date    End Date  \\\n",
       "0  2009      106010735.0  ALAMEDA HOSPITAL  07/01/2008  06/30/2009   \n",
       "1  2009      106010735.0  ALAMEDA HOSPITAL  07/01/2008  06/30/2009   \n",
       "2  2009      106010735.0  ALAMEDA HOSPITAL  07/01/2008  06/30/2009   \n",
       "\n",
       "  County Name Type of Control                Hours Type  Productive Hours  \\\n",
       "0     Alameda        District  Management & Supervision             63558   \n",
       "1     Alameda        District   Technician & Specialist            163706   \n",
       "2     Alameda        District          Registered Nurse            180034   \n",
       "\n",
       "   Productive Hours per Adjusted Patient Day  \n",
       "0                                       1.17  \n",
       "1                                       3.02  \n",
       "2                                       3.32  "
      ]
     },
     "execution_count": 4,
     "metadata": {},
     "output_type": "execute_result"
    }
   ],
   "source": [
    "# Load data as a pandas dataframe\n",
    "df = pd.read_csv(path+'/datasets/'+ds_link.split('/')[-1],\n",
    "                 delimiter=',',\n",
    "                 on_bad_lines='warn')\n",
    "df.head(3)"
   ]
  },
  {
   "cell_type": "code",
   "execution_count": 5,
   "id": "a3755a62-e019-43a5-acff-bfc2af9c73fe",
   "metadata": {},
   "outputs": [
    {
     "name": "stdout",
     "output_type": "stream",
     "text": [
      "Number of entries = 37604\n",
      "Dataset column names:\n",
      " ['Year', 'Facility Number', 'Facility Name', 'Begin Date', 'End Date', 'County Name', 'Type of Control', 'Hours Type', 'Productive Hours', 'PHpAPD']\n",
      "\n",
      "\n"
     ]
    }
   ],
   "source": [
    "# Rename the \"Productive Hours per Adjusted Patient Day\" to \"PHpAPD\"\n",
    "df = df.rename(columns={\"Productive Hours per Adjusted Patient Day\" : \"PHpAPD\"})\n",
    "\n",
    "# Number of entries\n",
    "print('Number of entries =', df.shape[0])\n",
    "\n",
    "# Columns\n",
    "print('Dataset column names:\\n', list(df.columns))\n",
    "print('\\n')"
   ]
  },
  {
   "cell_type": "markdown",
   "id": "e29dcf55-aaa4-49eb-a5b6-4e3ac4f3f467",
   "metadata": {},
   "source": [
    "## Cleaning and exploration\n",
    "\n",
    "Our first task is to explore the data to gain a basic understanding of what the columns represent. Armed with this knowledge we can clean the data by filling or dropping rows with missing values before standardizing the data in preparation for quantitative analysis."
   ]
  },
  {
   "cell_type": "code",
   "execution_count": 6,
   "id": "3aec321e-0c7a-4923-95cd-a79bcff18d14",
   "metadata": {},
   "outputs": [
    {
     "name": "stdout",
     "output_type": "stream",
     "text": [
      "Number of unique entries = 37604\n"
     ]
    }
   ],
   "source": [
    "# Drop duplicated entries\n",
    "df = df.drop_duplicates().reset_index(drop=True)\n",
    "\n",
    "print('Number of unique entries =', df.shape[0])"
   ]
  },
  {
   "cell_type": "code",
   "execution_count": 7,
   "id": "f24ad617-429e-4442-9c3d-74be5b705c27",
   "metadata": {},
   "outputs": [
    {
     "data": {
      "text/plain": [
       "Year                  int64\n",
       "Facility Number     float64\n",
       "Facility Name        object\n",
       "Begin Date           object\n",
       "End Date             object\n",
       "County Name          object\n",
       "Type of Control      object\n",
       "Hours Type           object\n",
       "Productive Hours      int64\n",
       "PHpAPD              float64\n",
       "dtype: object"
      ]
     },
     "execution_count": 7,
     "metadata": {},
     "output_type": "execute_result"
    }
   ],
   "source": [
    "# Print out the data types\n",
    "df.dtypes"
   ]
  },
  {
   "cell_type": "markdown",
   "id": "0afaa095-5216-4a08-98b1-2fa3d9d63a71",
   "metadata": {},
   "source": [
    "### Facility name and number\n",
    "\n",
    "Facility Number should be an integer or a string but is registered as float. We need to check if there are any non-integer facility ids in the data. Next, facility name should be strings which we will enforce later."
   ]
  },
  {
   "cell_type": "code",
   "execution_count": 8,
   "id": "d3c20f3c-c9b2-48bb-b462-5f76f6b5814c",
   "metadata": {},
   "outputs": [
    {
     "name": "stdout",
     "output_type": "stream",
     "text": [
      "Are there any float valued Facility Number enteries?  False\n",
      "Is there a facility with facility number 100000000.0?  False\n",
      "New column, \"facility_id\", was created.\n"
     ]
    }
   ],
   "source": [
    "# Facility Number should be an integer or a string but is registered as float\n",
    "print('Are there any float valued Facility Number enteries? ', \n",
    "      np.any(\n",
    "          df['Facility Number'][\n",
    "          (df['Facility Number']-df['Facility Number'].round(0)!=0.0)\n",
    "          ].notna()))\n",
    "\n",
    "# Check if 100000000.0 is a valid facility number\n",
    "print('Is there a facility with facility number 100000000.0? ',\n",
    "      np.any(cfns.df_mask(df,{'Facility Number':100000000.0}))\n",
    "     )\n",
    "\n",
    "# Fill missing values and convert dtype in a new column 'facility_id'\n",
    "df['facility_id'] = df['Facility Number'].fillna(100000000.0).astype('int64')\n",
    "print('New column, \"facility_id\", was created.')"
   ]
  },
  {
   "cell_type": "code",
   "execution_count": 9,
   "id": "ae85dc6b-5cd7-4b3b-a097-6ff8e56cbe79",
   "metadata": {},
   "outputs": [
    {
     "name": "stdout",
     "output_type": "stream",
     "text": [
      "Do the rows missing facility number and facility name match?  True\n",
      "New column, \"facility_name\", was created.\n"
     ]
    }
   ],
   "source": [
    "# Presumably the rows with missing facility number are also missing facility name\n",
    "print('Do the rows missing facility number and facility name match? ',\n",
    "      np.all((df['facility_id']==100000000).index==(df['Facility Name'].isna()).index))\n",
    "\n",
    "# Fill missing values with the string 'na' and convert dtype to string\n",
    "df['facility_name'] = df['Facility Name'].fillna('na').astype('string')\n",
    "print('New column, \"facility_name\", was created.')"
   ]
  },
  {
   "cell_type": "code",
   "execution_count": 10,
   "id": "0a99f67a-2e3f-42e8-b489-4ff948fd993a",
   "metadata": {},
   "outputs": [
    {
     "name": "stdout",
     "output_type": "stream",
     "text": [
      "Are there the same number of unique ids and names for facilities?  False\n",
      "Are there facility names with multiple associated ids?  True\n",
      "Are there facility ids with multiple associated names?  True\n",
      "\n",
      "\n"
     ]
    }
   ],
   "source": [
    "# Check if facility ids and names are 1 to 1\n",
    "print('Are there the same number of unique ids and names for facilities? ',\n",
    "      df.facility_id.nunique() == df.facility_name.nunique())\n",
    "\n",
    "# Check for facility names with multiple associated ids\n",
    "print('Are there facility names with multiple associated ids? ',\n",
    "      np.any(\n",
    "          df.groupby(\n",
    "              by=['facility_name']\n",
    "          )['facility_id'].unique().apply(lambda x: len(x))>1)\n",
    "     )\n",
    "\n",
    "# Check for facility ids associated with multiple names\n",
    "print('Are there facility ids with multiple associated names? ',\n",
    "      np.any(\n",
    "          df.groupby(\n",
    "              by=['facility_id']\n",
    "          )['facility_name'].unique().apply(lambda x: len(x))>1)\n",
    "     )\n",
    "print('\\n')"
   ]
  },
  {
   "cell_type": "markdown",
   "id": "11bc9f15-c965-4d80-aa05-52ec603ed7ba",
   "metadata": {},
   "source": [
    "#### Facility name-id disambiguation\n",
    "\n",
    "We can check that of the two facility names, each with two associated ids, one appears to have changed id in 2013, while the other refers to two facilities in different counties."
   ]
  },
  {
   "cell_type": "markdown",
   "id": "bf7b1a41-b275-4c25-a6db-02fd67f8ec75",
   "metadata": {},
   "source": [
    "##### Facility names with multiple associated ids"
   ]
  },
  {
   "cell_type": "code",
   "execution_count": 11,
   "id": "55959fd2-b795-4aab-9d4a-74c22ca46487",
   "metadata": {},
   "outputs": [
    {
     "name": "stdout",
     "output_type": "stream",
     "text": [
      "Facility names with multiple associated ids:\n"
     ]
    },
    {
     "data": {
      "text/plain": [
       "{'EDEN MEDICAL CENTER': [106010805, 106014233],\n",
       " 'ST. MARY MEDICAL CENTER': [106190053, 106361343]}"
      ]
     },
     "execution_count": 11,
     "metadata": {},
     "output_type": "execute_result"
    }
   ],
   "source": [
    "# List all the facility names with multiple associated ids\n",
    "facility_name_multiple_id = list(\n",
    "    (df.groupby(\n",
    "        by=['facility_name']\n",
    "    )['facility_id'].unique().apply(lambda x: len(x))>1)[\n",
    "    (df.groupby(\n",
    "        by=['facility_name']\n",
    "    )['facility_id'].unique().apply(lambda x: len(x))>1)].index)\n",
    "\n",
    "multiple_associated_ids = []\n",
    "for name in facility_name_multiple_id:\n",
    "    multiple_associated_ids.append(\n",
    "        list(df.facility_id[df.facility_name == name].unique()))\n",
    "\n",
    "facility_name_multiple_id = {\n",
    "    name: ids for name, ids in zip(facility_name_multiple_id, multiple_associated_ids)}\n",
    "\n",
    "print('Facility names with multiple associated ids:')\n",
    "facility_name_multiple_id"
   ]
  },
  {
   "cell_type": "code",
   "execution_count": 12,
   "id": "18fb2873-04d7-4433-8233-ad2547901e5e",
   "metadata": {},
   "outputs": [
    {
     "name": "stdout",
     "output_type": "stream",
     "text": [
      "EDEN MEDICAL CENTER's id over other columns:\n",
      " Year  County Name  Type of Control\n",
      "2009  Alameda      Non-Profit         [106010805]\n",
      "2010  Alameda      Non-Profit         [106010805]\n",
      "2011  Alameda      Non-Profit         [106010805]\n",
      "2012  Alameda      Non-Profit         [106010805]\n",
      "2013  Alameda      Non-Profit         [106014233]\n",
      "Name: facility_id, dtype: object\n",
      "ST. MARY MEDICAL CENTER's id over other columns:\n",
      " Year  County Name     Type of Control\n",
      "2009  Los Angeles     Non-Profit         [106190053]\n",
      "      San Bernardino  Non-Profit         [106361343]\n",
      "2011  Los Angeles     Non-Profit         [106190053]\n",
      "      San Bernardino  Non-Profit         [106361343]\n",
      "Name: facility_id, dtype: object\n"
     ]
    }
   ],
   "source": [
    "# Check for apparent reasons for the multiplicities\n",
    "for name in facility_name_multiple_id.keys():\n",
    "    print(f\"{name}'s id over other columns:\\n\",\n",
    "          df[df.facility_name == name].groupby([\n",
    "              'Year', \n",
    "              'County Name', \n",
    "              'Type of Control']).facility_id.unique()\n",
    "         )"
   ]
  },
  {
   "cell_type": "code",
   "execution_count": 13,
   "id": "85be1ff2-d0bd-4a4e-acec-6c4abf8de210",
   "metadata": {
    "scrolled": true
   },
   "outputs": [],
   "source": [
    "# Facility name with multiple associated ids\n",
    "n1_id2 = {'name':'EDEN MEDICAL CENTER', 'ids':[106010805,106014233]}\n",
    "\n",
    "# Find the indices with facility name EDEN MEDICAL CENTER\n",
    "eden_medical_indices = cfns.df_mask(df,\n",
    "                                    {'Facility Name':n1_id2['name']},\n",
    "                                    return_index=True)\n",
    "\n",
    "# Change all the ids for EDEN MEDICAL CENTER the latest reported id \n",
    "df.loc[eden_medical_indices, ['facility_id']] = n1_id2['ids'][1]"
   ]
  },
  {
   "cell_type": "code",
   "execution_count": 14,
   "id": "d7e8558c-178b-4c06-a147-69f720abf4dc",
   "metadata": {},
   "outputs": [],
   "source": [
    "# Facilities sharing the same name\n",
    "c2_n1 = {'name':'ST. MARY MEDICAL CENTER',\n",
    "         'ids':[106190053,106361343],\n",
    "         'counties':['Los Angeles','San Bernardino'],\n",
    "         'suffixes':['LA', 'SB']}\n",
    "\n",
    "# Append the facility name with county abbreviation\n",
    "for i in range(2):\n",
    "    # Select entries with matching name and county\n",
    "    cs = {'Facility Name':c2_n1['name'], 'County Name':c2_n1['counties'][i]}\n",
    "    # Append name with county abbreviation in new_name string\n",
    "    new_name = c2_n1['name'].join([' ',c2_n1['suffixes'][i]])\n",
    "    # Change the name in df\n",
    "    df.loc[cfns.df_mask(df, cs, return_index=True), ['facility_name']] = new_name"
   ]
  },
  {
   "cell_type": "code",
   "execution_count": 15,
   "id": "8a0c95b7-241a-4da3-80ea-295f010c0442",
   "metadata": {},
   "outputs": [
    {
     "name": "stdout",
     "output_type": "stream",
     "text": [
      "Remaining facility names with multiple associated ids: {}\n",
      "\n",
      "\n"
     ]
    }
   ],
   "source": [
    "# Check the results\n",
    "# List all the facility names with multiple associated ids\n",
    "facility_name_multiple_id = list(\n",
    "    (df.groupby(\n",
    "        by=['facility_name']\n",
    "    )['facility_id'].unique().apply(lambda x: len(x))>1)[\n",
    "    (df.groupby(\n",
    "        by=['facility_name']\n",
    "    )['facility_id'].unique().apply(lambda x: len(x))>1)].index)\n",
    "\n",
    "multiple_associated_ids = []\n",
    "for name in facility_name_multiple_id:\n",
    "    multiple_associated_ids.append(\n",
    "        list(df.facility_id[df.facility_name == name].unique()))\n",
    "\n",
    "facility_name_multiple_id = {\n",
    "    name: ids for name, ids in zip(facility_name_multiple_id, multiple_associated_ids)}\n",
    "\n",
    "print('Remaining facility names with multiple associated ids:',\n",
    "      facility_name_multiple_id)\n",
    "\n",
    "print('\\n')"
   ]
  },
  {
   "cell_type": "markdown",
   "id": "7c0c98b3-f9f0-439a-b203-cdbaffc101c6",
   "metadata": {},
   "source": [
    "##### Facility ids with multiple associated names"
   ]
  },
  {
   "cell_type": "code",
   "execution_count": 16,
   "id": "9c3cadf9-961b-44ef-9e0d-a3a4fd6029e9",
   "metadata": {},
   "outputs": [
    {
     "name": "stdout",
     "output_type": "stream",
     "text": [
      "ids with multiple associated names:\n",
      "106100797 ['SIERRA KINGS DISTRICT HOSPITAL', 'ADVENTIST MEDICAL CENTER - REEDLEY']\n",
      "106190053 [' ST. MARY MEDICAL CENTERLA', 'ST. MARY MEDICAL CENTER - LOS ANGELES', 'ST. MARY MEDICAL CENTER - LONG BEACH']\n",
      "106190517 ['TARZANA MEDICAL CENTER', 'PROVIDENCE TARZANA MEDICAL CENTER']\n",
      "106361343 [' ST. MARY MEDICAL CENTERSB', 'ST. MARY MEDICAL CENTER - APPLE VALLEY']\n",
      "106370782 ['UNIVERSITY OF CALIF - SAN DIEGO MEDICAL CENTER', 'UNIVERSITY OF CALIFORNIA SAN DIEGO MEDICAL CENTER']\n"
     ]
    }
   ],
   "source": [
    "# List all the facility ids with multiple associated names\n",
    "facility_id_multiple_name = list(\n",
    "    (df.groupby(\n",
    "        by=['facility_id'])['facility_name'].unique().apply(lambda x: len(x))>1)[(\n",
    "        df.groupby(\n",
    "            by=['facility_id'])['facility_name'].unique().apply(lambda x: len(x))>1\n",
    "    )].index)\n",
    "\n",
    "multiple_associated_names = []\n",
    "for id in facility_id_multiple_name:\n",
    "    multiple_associated_names.append(\n",
    "        list(df.facility_name[df.facility_id == id].unique()))\n",
    "\n",
    "# Strip facility names to check for non-trivial differences\n",
    "strip_chars = '['+re.escape(string.punctuation+' -')+']'\n",
    "print('ids with multiple associated names:')\n",
    "for id, names in zip(facility_id_multiple_name, multiple_associated_names):\n",
    "    if pd.Series(names).str.replace(strip_chars,'', regex=True).nunique() > 1:\n",
    "        print(id, names)"
   ]
  },
  {
   "cell_type": "code",
   "execution_count": 17,
   "id": "6cb4f526-e375-464c-a066-96a998b3e510",
   "metadata": {},
   "outputs": [
    {
     "name": "stdout",
     "output_type": "stream",
     "text": [
      "ADVENTIST MEDICAL CENTER - REEDLEY facility now has id = 106580997\n",
      "ST. MARY MEDICAL CENTER - LONG BEACH facility now has id = 106580998\n",
      "ST. MARY MEDICAL CENTER - APPLE VALLEY facility now has id = 106580999\n"
     ]
    }
   ],
   "source": [
    "# There are only 3 facilities that need a different id:\n",
    "facility_id_multiple_name = [\n",
    "    'ADVENTIST MEDICAL CENTER - REEDLEY',\n",
    "    'ST. MARY MEDICAL CENTER - LONG BEACH',\n",
    "    'ST. MARY MEDICAL CENTER - APPLE VALLEY'\n",
    "]\n",
    "\n",
    "for i in range(len(facility_id_multiple_name)):\n",
    "    # Select entries with matching facility name\n",
    "    cs = {'Facility Name': facility_id_multiple_name[i]}\n",
    "    # Generate a new id to associate with facility\n",
    "    new_id = df.facility_id.max()+1\n",
    "    # Change the id of facility entries to new_id\n",
    "    df.loc[cfns.df_mask(df, cs, return_index=True), ['facility_id']] = new_id\n",
    "    # Print update message\n",
    "    print(f\"{facility_id_multiple_name[i]} facility now has id = {new_id}\")"
   ]
  },
  {
   "cell_type": "markdown",
   "id": "675b3bef-7e57-4ca3-9ab5-ea0d75ee33d7",
   "metadata": {},
   "source": [
    "#### Facilities table\n",
    "\n",
    "Having resolved the ambiguities in pairing names and ids of all the facilities in the dataset, we only need facility ids moving forward. We create a new table to store facility names and drop the name columns (\"Facility Name\" and \"facility_name\") as well as the duplicate \"Facility Number\" column."
   ]
  },
  {
   "cell_type": "code",
   "execution_count": 18,
   "id": "8273c9a5-3f97-40bf-ba79-75b70a2cd081",
   "metadata": {},
   "outputs": [
    {
     "name": "stdout",
     "output_type": "stream",
     "text": [
      "Created the facilities dataframe with 467 unique entries.\n"
     ]
    },
    {
     "data": {
      "text/html": [
       "<div>\n",
       "<style scoped>\n",
       "    .dataframe tbody tr th:only-of-type {\n",
       "        vertical-align: middle;\n",
       "    }\n",
       "\n",
       "    .dataframe tbody tr th {\n",
       "        vertical-align: top;\n",
       "    }\n",
       "\n",
       "    .dataframe thead th {\n",
       "        text-align: right;\n",
       "    }\n",
       "</style>\n",
       "<table border=\"1\" class=\"dataframe\">\n",
       "  <thead>\n",
       "    <tr style=\"text-align: right;\">\n",
       "      <th></th>\n",
       "      <th>facility_name</th>\n",
       "      <th>county</th>\n",
       "    </tr>\n",
       "    <tr>\n",
       "      <th>facility_id</th>\n",
       "      <th></th>\n",
       "      <th></th>\n",
       "    </tr>\n",
       "  </thead>\n",
       "  <tbody>\n",
       "    <tr>\n",
       "      <th>100000000</th>\n",
       "      <td>na</td>\n",
       "      <td>Statewide</td>\n",
       "    </tr>\n",
       "    <tr>\n",
       "      <th>106010735</th>\n",
       "      <td>ALAMEDA HOSPITAL</td>\n",
       "      <td>Alameda</td>\n",
       "    </tr>\n",
       "    <tr>\n",
       "      <th>106010739</th>\n",
       "      <td>ALTA BATES SUMMIT MED CTR-ALTA BATES CAMPUS</td>\n",
       "      <td>Alameda</td>\n",
       "    </tr>\n",
       "    <tr>\n",
       "      <th>106010776</th>\n",
       "      <td>CHILDRENS HOSPITAL &amp; RESEARCH CENTER AT OAKLAND</td>\n",
       "      <td>Alameda</td>\n",
       "    </tr>\n",
       "    <tr>\n",
       "      <th>106010782</th>\n",
       "      <td>THUNDER ROAD CHEMICAL DEPENDENCY RECOVERY HOSP...</td>\n",
       "      <td>Alameda</td>\n",
       "    </tr>\n",
       "  </tbody>\n",
       "</table>\n",
       "</div>"
      ],
      "text/plain": [
       "                                                 facility_name     county\n",
       "facility_id                                                              \n",
       "100000000                                                   na  Statewide\n",
       "106010735                                     ALAMEDA HOSPITAL    Alameda\n",
       "106010739          ALTA BATES SUMMIT MED CTR-ALTA BATES CAMPUS    Alameda\n",
       "106010776      CHILDRENS HOSPITAL & RESEARCH CENTER AT OAKLAND    Alameda\n",
       "106010782    THUNDER ROAD CHEMICAL DEPENDENCY RECOVERY HOSP...    Alameda"
      ]
     },
     "execution_count": 18,
     "metadata": {},
     "output_type": "execute_result"
    }
   ],
   "source": [
    "# Create a new dataframe with index=facility_id and columns facility_name and county.\n",
    "facilities = df.copy().groupby(by=['facility_id','County Name'])['facility_name'].unique()\n",
    "\n",
    "# Rename columns\n",
    "facilities = facilities.reset_index().rename(\n",
    "    columns={'facility_name':'names', 'County Name':'county'})\n",
    "\n",
    "# Create the facility_name column with only the first name in the list of \n",
    "# names for each facility.\n",
    "facilities['facility_name'] = facilities.names.map(lambda x: x[0]).astype(\"string\")\n",
    "\n",
    "# Drop the names column with multiple spelling of the name for each facility.\n",
    "facilities = facilities.drop(columns=['names']).set_index('facility_id')\n",
    "\n",
    "# Reorder the columns\n",
    "facilities = facilities[['facility_name', 'county']]\n",
    "\n",
    "print('Created the facilities dataframe with {} unique entries.'.format(\n",
    "    facilities.shape[0]))\n",
    "facilities.head(5)"
   ]
  },
  {
   "cell_type": "code",
   "execution_count": 19,
   "id": "ef55f645-6ee7-452b-8bc4-b066ff0385b5",
   "metadata": {},
   "outputs": [
    {
     "data": {
      "text/html": [
       "<div>\n",
       "<style scoped>\n",
       "    .dataframe tbody tr th:only-of-type {\n",
       "        vertical-align: middle;\n",
       "    }\n",
       "\n",
       "    .dataframe tbody tr th {\n",
       "        vertical-align: top;\n",
       "    }\n",
       "\n",
       "    .dataframe thead th {\n",
       "        text-align: right;\n",
       "    }\n",
       "</style>\n",
       "<table border=\"1\" class=\"dataframe\">\n",
       "  <thead>\n",
       "    <tr style=\"text-align: right;\">\n",
       "      <th></th>\n",
       "      <th>Year</th>\n",
       "      <th>Begin Date</th>\n",
       "      <th>End Date</th>\n",
       "      <th>County Name</th>\n",
       "      <th>Type of Control</th>\n",
       "      <th>Hours Type</th>\n",
       "      <th>Productive Hours</th>\n",
       "      <th>PHpAPD</th>\n",
       "      <th>facility_id</th>\n",
       "    </tr>\n",
       "  </thead>\n",
       "  <tbody>\n",
       "    <tr>\n",
       "      <th>0</th>\n",
       "      <td>2009</td>\n",
       "      <td>07/01/2008</td>\n",
       "      <td>06/30/2009</td>\n",
       "      <td>Alameda</td>\n",
       "      <td>District</td>\n",
       "      <td>Management &amp; Supervision</td>\n",
       "      <td>63558</td>\n",
       "      <td>1.17</td>\n",
       "      <td>106010735</td>\n",
       "    </tr>\n",
       "    <tr>\n",
       "      <th>1</th>\n",
       "      <td>2009</td>\n",
       "      <td>07/01/2008</td>\n",
       "      <td>06/30/2009</td>\n",
       "      <td>Alameda</td>\n",
       "      <td>District</td>\n",
       "      <td>Technician &amp; Specialist</td>\n",
       "      <td>163706</td>\n",
       "      <td>3.02</td>\n",
       "      <td>106010735</td>\n",
       "    </tr>\n",
       "    <tr>\n",
       "      <th>2</th>\n",
       "      <td>2009</td>\n",
       "      <td>07/01/2008</td>\n",
       "      <td>06/30/2009</td>\n",
       "      <td>Alameda</td>\n",
       "      <td>District</td>\n",
       "      <td>Registered Nurse</td>\n",
       "      <td>180034</td>\n",
       "      <td>3.32</td>\n",
       "      <td>106010735</td>\n",
       "    </tr>\n",
       "  </tbody>\n",
       "</table>\n",
       "</div>"
      ],
      "text/plain": [
       "   Year  Begin Date    End Date County Name Type of Control  \\\n",
       "0  2009  07/01/2008  06/30/2009     Alameda        District   \n",
       "1  2009  07/01/2008  06/30/2009     Alameda        District   \n",
       "2  2009  07/01/2008  06/30/2009     Alameda        District   \n",
       "\n",
       "                 Hours Type  Productive Hours  PHpAPD  facility_id  \n",
       "0  Management & Supervision             63558    1.17    106010735  \n",
       "1   Technician & Specialist            163706    3.02    106010735  \n",
       "2          Registered Nurse            180034    3.32    106010735  "
      ]
     },
     "execution_count": 19,
     "metadata": {},
     "output_type": "execute_result"
    }
   ],
   "source": [
    "# Drop the facility name/number keeping only facility_id.\n",
    "df = df.drop(columns=['Facility Name', 'Facility Number', 'facility_name'])\n",
    "df.head(3)"
   ]
  },
  {
   "cell_type": "markdown",
   "id": "74c8fbe9-68f1-4d91-bb47-becec12d49fb",
   "metadata": {},
   "source": [
    "### Date columns\n",
    "\n",
    "It is quite convenient to express dates with the datetime data type which in particular enables us to easily evaluate duration as the difference of two datetime type objects."
   ]
  },
  {
   "cell_type": "code",
   "execution_count": 20,
   "id": "3f02e2b0-c414-404b-b9f1-77610cbedcbb",
   "metadata": {},
   "outputs": [
    {
     "name": "stdout",
     "output_type": "stream",
     "text": [
      "Column data types:\n",
      " Year                  int64\n",
      "Begin Date           object\n",
      "End Date             object\n",
      "County Name          object\n",
      "Type of Control      object\n",
      "Hours Type           object\n",
      "Productive Hours      int64\n",
      "PHpAPD              float64\n",
      "facility_id           int64\n",
      "dtype: object\n"
     ]
    }
   ],
   "source": [
    "print('Column data types:\\n', df.dtypes)"
   ]
  },
  {
   "cell_type": "code",
   "execution_count": 21,
   "id": "a9b1267b-aefa-4dca-b9c7-e53503bc81cc",
   "metadata": {},
   "outputs": [
    {
     "name": "stdout",
     "output_type": "stream",
     "text": [
      "Is End Date after Begin Date for all valid (non-null) rows? True\n",
      "New column, \"duration\", was created.\n",
      "\n"
     ]
    }
   ],
   "source": [
    "# Convert dates to pandas datetime data type\n",
    "df['Begin Date'] = pd.to_datetime(df['Begin Date'])\n",
    "df['End Date'] = pd.to_datetime(df['End Date'])\n",
    "\n",
    "# Make sure End Date is always after Begin Date\n",
    "print('Is End Date after Begin Date for all valid (non-null) rows?',\n",
    "     np.all(df['Begin Date'].dropna() < df['End Date'].dropna()))\n",
    "\n",
    "# Create a new column and store the 'duration' of each entry\n",
    "# duration = End Date - Begin Date  (duration>0)\n",
    "df['duration'] = df['End Date'] - df['Begin Date']\n",
    "print('New column, \"duration\", was created.\\n')"
   ]
  },
  {
   "cell_type": "markdown",
   "id": "250869b4-a84e-4f7c-96af-f47f0cc54d3d",
   "metadata": {},
   "source": [
    "### Missing values\n",
    "\n",
    "Let us check for any missing values in the dataset, specially for the dates and productive hours columns. Note that we have already filled the missing facility_id values with 0."
   ]
  },
  {
   "cell_type": "code",
   "execution_count": 22,
   "id": "d02c65fc-ccab-4f1f-9b58-71b0cb5b0649",
   "metadata": {},
   "outputs": [
    {
     "data": {
      "text/plain": [
       "Year                  0\n",
       "Begin Date           85\n",
       "End Date             85\n",
       "County Name           0\n",
       "Type of Control      85\n",
       "Hours Type            0\n",
       "Productive Hours      0\n",
       "PHpAPD              187\n",
       "facility_id           0\n",
       "duration             85\n",
       "dtype: int64"
      ]
     },
     "execution_count": 22,
     "metadata": {},
     "output_type": "execute_result"
    }
   ],
   "source": [
    "# Count the missing values\n",
    "df.isna().sum()"
   ]
  },
  {
   "cell_type": "markdown",
   "id": "d8d13484-c8f4-4d52-8bdb-eb1c3bb4cae8",
   "metadata": {},
   "source": [
    "#### Missing dates\n",
    "\n",
    "It is easy to check that \"County Name\" takes the value \"Statewide\" in 85 rows suggesting that these rows aggregate information from multiple facilities over different periods. Consequently, these rows are missing begin and end dates as well as facility information and type of control. We can try to fill in some missing information using appropriate aggregate functions of the other rows or just drop them altogether. For now, we will store them separately and turn our attention to the missing productive hours per adjusted patient day (PHpAPD)."
   ]
  },
  {
   "cell_type": "code",
   "execution_count": 23,
   "id": "4c20545b-b9eb-4d0c-99d2-b097d16a1f2b",
   "metadata": {},
   "outputs": [
    {
     "data": {
      "text/html": [
       "<div>\n",
       "<style scoped>\n",
       "    .dataframe tbody tr th:only-of-type {\n",
       "        vertical-align: middle;\n",
       "    }\n",
       "\n",
       "    .dataframe tbody tr th {\n",
       "        vertical-align: top;\n",
       "    }\n",
       "\n",
       "    .dataframe thead th {\n",
       "        text-align: right;\n",
       "    }\n",
       "</style>\n",
       "<table border=\"1\" class=\"dataframe\">\n",
       "  <thead>\n",
       "    <tr style=\"text-align: right;\">\n",
       "      <th></th>\n",
       "      <th>Year</th>\n",
       "      <th>Begin Date</th>\n",
       "      <th>End Date</th>\n",
       "      <th>County Name</th>\n",
       "      <th>Type of Control</th>\n",
       "      <th>Hours Type</th>\n",
       "      <th>Productive Hours</th>\n",
       "      <th>PHpAPD</th>\n",
       "      <th>facility_id</th>\n",
       "      <th>duration</th>\n",
       "    </tr>\n",
       "  </thead>\n",
       "  <tbody>\n",
       "    <tr>\n",
       "      <th>0</th>\n",
       "      <td>2010</td>\n",
       "      <td>NaT</td>\n",
       "      <td>NaT</td>\n",
       "      <td>Statewide</td>\n",
       "      <td>NaN</td>\n",
       "      <td>Environmental &amp; Food Services</td>\n",
       "      <td>48811411</td>\n",
       "      <td>1.62</td>\n",
       "      <td>100000000</td>\n",
       "      <td>NaT</td>\n",
       "    </tr>\n",
       "    <tr>\n",
       "      <th>1</th>\n",
       "      <td>2010</td>\n",
       "      <td>NaT</td>\n",
       "      <td>NaT</td>\n",
       "      <td>Statewide</td>\n",
       "      <td>NaN</td>\n",
       "      <td>Other</td>\n",
       "      <td>79203513</td>\n",
       "      <td>2.62</td>\n",
       "      <td>100000000</td>\n",
       "      <td>NaT</td>\n",
       "    </tr>\n",
       "    <tr>\n",
       "      <th>2</th>\n",
       "      <td>2010</td>\n",
       "      <td>NaT</td>\n",
       "      <td>NaT</td>\n",
       "      <td>Statewide</td>\n",
       "      <td>NaN</td>\n",
       "      <td>Contracted Registry Nursing</td>\n",
       "      <td>11529563</td>\n",
       "      <td>0.38</td>\n",
       "      <td>100000000</td>\n",
       "      <td>NaT</td>\n",
       "    </tr>\n",
       "  </tbody>\n",
       "</table>\n",
       "</div>"
      ],
      "text/plain": [
       "   Year Begin Date End Date County Name Type of Control  \\\n",
       "0  2010        NaT      NaT   Statewide             NaN   \n",
       "1  2010        NaT      NaT   Statewide             NaN   \n",
       "2  2010        NaT      NaT   Statewide             NaN   \n",
       "\n",
       "                      Hours Type  Productive Hours  PHpAPD  facility_id  \\\n",
       "0  Environmental & Food Services          48811411    1.62    100000000   \n",
       "1                          Other          79203513    2.62    100000000   \n",
       "2    Contracted Registry Nursing          11529563    0.38    100000000   \n",
       "\n",
       "  duration  \n",
       "0      NaT  \n",
       "1      NaT  \n",
       "2      NaT  "
      ]
     },
     "execution_count": 23,
     "metadata": {},
     "output_type": "execute_result"
    }
   ],
   "source": [
    "# Store the statewide entries separately\n",
    "df_statewide = df.copy()[cfns.df_mask(df,{'County Name':'Statewide'})]\n",
    "# Drop statewide entries from df and reset index\n",
    "df = df.drop(index = df_statewide.index).reset_index(drop=True)\n",
    "# Reset df_statewide index\n",
    "df_statewide = df_statewide.reset_index(drop=True)\n",
    "\n",
    "df_statewide.head(3)"
   ]
  },
  {
   "cell_type": "code",
   "execution_count": 24,
   "id": "8678fb82-2c8f-4ed7-8ee6-724aba1f299e",
   "metadata": {},
   "outputs": [
    {
     "data": {
      "text/plain": [
       "Year                  0\n",
       "Begin Date            0\n",
       "End Date              0\n",
       "County Name           0\n",
       "Type of Control       0\n",
       "Hours Type            0\n",
       "Productive Hours      0\n",
       "PHpAPD              187\n",
       "facility_id           0\n",
       "duration              0\n",
       "dtype: int64"
      ]
     },
     "execution_count": 24,
     "metadata": {},
     "output_type": "execute_result"
    }
   ],
   "source": [
    "# Now we are only left with missing values in the\n",
    "# Productive Hours per Adjusted Patient Day column.\n",
    "df.isna().sum()"
   ]
  },
  {
   "cell_type": "code",
   "execution_count": 25,
   "id": "d02235cc-5f8b-493e-9e84-4cf32341f456",
   "metadata": {},
   "outputs": [],
   "source": [
    "# Of the 187 missing values, most can be set to 0 since these entries have\n",
    "# Productive Hours = 0.\n",
    "zero_PHpAPD_indices = df[(df['Productive Hours'] == 0) & (df['PHpAPD'].isna())].index\n",
    "\n",
    "# Fill these missing value with 0\n",
    "df.loc[zero_PHpAPD_indices, ['PHpAPD']] = 0"
   ]
  },
  {
   "cell_type": "code",
   "execution_count": 26,
   "id": "db3ea304-7dd7-41c5-9a1e-44197bf4971c",
   "metadata": {},
   "outputs": [
    {
     "name": "stdout",
     "output_type": "stream",
     "text": [
      "Number of unique values in each column for rows with missing values:\n",
      "\n",
      "Year                 1\n",
      "Begin Date           1\n",
      "End Date             1\n",
      "County Name          1\n",
      "Type of Control      1\n",
      "Hours Type          15\n",
      "Productive Hours    15\n",
      "PHpAPD               0\n",
      "facility_id          1\n",
      "duration             1\n",
      "dtype: int64\n",
      "\n",
      "\n",
      "The unique values shared by all rows with missing values:\n",
      "\n",
      "Begin Date  End Date    County Name  Type of Control  facility_id  duration\n",
      "2011-07-01  2012-06-30  Los Angeles  Non-Profit       106191216    365 days    [2012]\n",
      "Name: Year, dtype: object\n"
     ]
    }
   ],
   "source": [
    "# Collect the indices of the remaining rows with missing values\n",
    "missing_PHpAPD_indices = df[df['PHpAPD'].isna()].index\n",
    "\n",
    "# Observe that they share almost every column\n",
    "print('Number of unique values in each column for rows with missing values:\\n')\n",
    "print(df.iloc[missing_PHpAPD_indices].nunique())\n",
    "\n",
    "# List all the columns\n",
    "cols = list(df.columns)\n",
    "# Keep only the columns with a single unique value across the rows with missing values.\n",
    "del cols[5:8]\n",
    "\n",
    "print('\\n')\n",
    "print('The unique values shared by all rows with missing values:\\n')\n",
    "print(df.loc[missing_PHpAPD_indices,cols].groupby(cols[1:]).Year.unique())"
   ]
  },
  {
   "cell_type": "code",
   "execution_count": 27,
   "id": "c5cd29fe-12f9-4da8-a99b-3a1ed3fef0c9",
   "metadata": {},
   "outputs": [
    {
     "data": {
      "text/plain": [
       "True"
      ]
     },
     "execution_count": 27,
     "metadata": {},
     "output_type": "execute_result"
    }
   ],
   "source": [
    "# Check if the indices are selected correctly\n",
    "np.all(df.loc[missing_PHpAPD_indices, ['PHpAPD']].isna())"
   ]
  },
  {
   "cell_type": "markdown",
   "id": "a79c8a36-45fc-43e9-a8e1-8a32a56e7e14",
   "metadata": {},
   "source": [
    "#### Inferring missing values\n",
    "\n",
    "As you can see, the rows with missing values are all entries from the same facility from a single year. Since we are only missing the values from the Productive Hours per Adjusted Patient Day column, we should be able to infer the value from the Productive Hours by making informed assumptions about the volume of patients."
   ]
  },
  {
   "cell_type": "code",
   "execution_count": 28,
   "id": "bfc0bae4-cb6f-4dc4-b46d-c141171510cd",
   "metadata": {},
   "outputs": [
    {
     "name": "stdout",
     "output_type": "stream",
     "text": [
      "New column, \"DPH\", was created.\n"
     ]
    }
   ],
   "source": [
    "# Create a new column, DPH, to store Daily Productive Hours = (Productive Hours)/(duration)\n",
    "df['DPH'] = df['Productive Hours'] / df.duration.dt.days\n",
    "print('New column, \"DPH\", was created.')"
   ]
  },
  {
   "cell_type": "code",
   "execution_count": 29,
   "id": "8270b53f-33a9-437b-8410-5b74c9c9ee2b",
   "metadata": {},
   "outputs": [
    {
     "name": "stdout",
     "output_type": "stream",
     "text": [
      "Columns for which the rows with missing values all share the same value:\n",
      " ['Year', 'Begin Date', 'End Date', 'County Name', 'Type of Control', 'facility_id', 'duration']\n"
     ]
    }
   ],
   "source": [
    "# Recall the cols list defined above\n",
    "print('Columns for which the rows with missing values all share the same value:\\n',\n",
    "      cols)"
   ]
  },
  {
   "cell_type": "code",
   "execution_count": 30,
   "id": "69a4c8d9-8539-490c-b392-e0df69c087fd",
   "metadata": {},
   "outputs": [],
   "source": [
    "# select the facility id and type of control for which data is missing\n",
    "toc, fid = df.loc[missing_PHpAPD_indices,cols].groupby(\n",
    "    cols[1:]).Year.unique().reset_index()[['Type of Control', 'facility_id']].to_numpy()[0]\n",
    "\n",
    "# Create mask to select COMPLETE entries with toc and fid.\n",
    "mask = cfns.df_mask(df, {'facility_id':fid, 'Type of Control':toc})\n",
    "mask = mask & df['PHpAPD'].notna()\n",
    "\n",
    "# Prepare data for the plot\n",
    "Htypes = df['Hours Type'].unique()\n",
    "Xs = {t:df[mask & (df['Hours Type'] == t)].PHpAPD for t in Htypes}\n",
    "Ys = {t:df[mask & (df['Hours Type'] == t)].DPH for t in Htypes}"
   ]
  },
  {
   "cell_type": "code",
   "execution_count": 31,
   "id": "37245519-1d7e-4ec4-acd2-d2567f655a0a",
   "metadata": {},
   "outputs": [
    {
     "data": {
      "image/png": "[encoded data removed]",
      "text/plain": [
       "<Figure size 640x480 with 1 Axes>"
      ]
     },
     "metadata": {},
     "output_type": "display_data"
    }
   ],
   "source": [
    "# Generate a list of colors for the plot\n",
    "colors = cfns.random_colors(Htypes)\n",
    "\n",
    "# Plot the data for different Hours Type\n",
    "fig = plt.figure()\n",
    "for type in Htypes:\n",
    "    plt.scatter(Xs[type], Ys[type], 5, colors[type], label=type)\n",
    "\n",
    "plt.title('Enteries for {} facility with id={}'.format(\n",
    "    toc, fid))\n",
    "plt.xlabel('Productive Hours per Adjust Patient Day')\n",
    "plt.ylabel('Daily Productive Hours')\n",
    "plt.legend(loc=\"lower right\", fontsize=6)\n",
    "          \n",
    "plt.show()"
   ]
  },
  {
   "cell_type": "code",
   "execution_count": 32,
   "id": "0b0e0c00-8ec9-4602-bb44-677e00c32a9a",
   "metadata": {},
   "outputs": [
    {
     "data": {
      "image/png": "[encoded data removed]",
      "text/plain": [
       "<Figure size 640x480 with 1 Axes>"
      ]
     },
     "metadata": {},
     "output_type": "display_data"
    }
   ],
   "source": [
    "# The plot clearly shows 3 linear trends which should correspond\n",
    "# to the 3 years for which we have COMPLETE data. \n",
    "# (Recall that all the missing values are from 2012.)\n",
    "years = np.arange(2010,2014, 1)\n",
    "X = {y:df[mask & (df['Year'] == y)].PHpAPD for y in years}\n",
    "Y = {y:df[mask & (df['Year'] == y)].DPH for y in years}\n",
    "\n",
    "# Generate a list of colors for the plot\n",
    "colors = cfns.random_colors(years, 1)\n",
    "\n",
    "# Plot the data for each year\n",
    "fig = plt.figure()\n",
    "for y in years:\n",
    "    plt.scatter(X[y], Y[y], 5, colors[y], label=f'{y}'.replace(\n",
    "        '2012', '2012 (missing)'))\n",
    "\n",
    "plt.title('Enteries for {} facility with id={}'.format(\n",
    "    toc, fid))\n",
    "plt.xlabel('Productive Hours per Adjust Patient Day')\n",
    "plt.ylabel('Daily Productive Hours')\n",
    "plt.legend(loc=\"lower right\", fontsize=6)\n",
    "\n",
    "plt.show()"
   ]
  },
  {
   "cell_type": "code",
   "execution_count": 33,
   "id": "ad5ae70e-f4af-42a4-b6d3-7262d6a3bc5b",
   "metadata": {},
   "outputs": [
    {
     "data": {
      "image/png": "[encoded data removed]",
      "text/plain": [
       "<Figure size 1000x1000 with 9 Axes>"
      ]
     },
     "metadata": {},
     "output_type": "display_data"
    }
   ],
   "source": [
    "# List facility ids with similar features \n",
    "#(type of control = Non Profit, County Name = )\n",
    "np_la_mask = cfns.df_mask(df,{'Type of Control':'Non-Profit', 'County Name':'Los Angeles'})\n",
    "\n",
    "np_la_fids = df[np_la_mask].facility_id.unique()\n",
    "\n",
    "# Select a few of the facilities at random\n",
    "k = 9\n",
    "np.random.seed(2)\n",
    "fids = np.random.choice(np_la_fids, k)\n",
    "\n",
    "# Create masks to select corresponding entries.\n",
    "masks=[cfns.df_mask(df,{'Type of Control':toc,'facility_id':fids[i]}) for i in range(k)]\n",
    "\n",
    "# Select the data to plot from these entries\n",
    "Xs=[df[masks[i]].PHpAPD for i in range(k)]\n",
    "Ys=[df[masks[i]].DPH for i in range(k)]\n",
    "\n",
    "# Plot the data for all hour types and available years\n",
    "fig, axs = plt.subplots(3, 3)\n",
    "fig.set_figheight(10)\n",
    "fig.set_figwidth(10)\n",
    "for i in range(k):\n",
    "    axs[i//3, i%3].scatter(Xs[i], Ys[i], 5, 'green', label=f'{fids[i]}')\n",
    "    axs[i//3, i%3].set_title('DPH vs PHpAPD for id = {}'.format(fids[i]), size=8)\n",
    "plt.show()"
   ]
  },
  {
   "cell_type": "markdown",
   "id": "2f6e044f-6cf1-497a-9115-f7dd9783d8f7",
   "metadata": {},
   "source": [
    "##### Linear regression\n",
    "\n",
    "The plots above of \"Productive Hours per Adjusted Patient Day\" vs \"Daily Productive Hours\" strongly suggest a linear relation between the two quantities which is different for each facility but constant over the years. We will test this assumption below to confirm its validity.\n",
    "\n",
    "This renders the plot for facility with id=106191216 an anomaly in the amount of variation in the slope of the plots for each year. Nonetheless, in lieu of extra information that could explain the variance, the conservative approach to inferring the missing data is to use the average of the slopes which is done by the model below."
   ]
  },
  {
   "cell_type": "code",
   "execution_count": 34,
   "id": "39b17329-b3d2-427c-9160-42eacc51e262",
   "metadata": {},
   "outputs": [
    {
     "name": "stdout",
     "output_type": "stream",
     "text": [
      "Assuming a linear correlation between DPH and PHpAPD yields an R-squared score of:\n",
      " 0.9939\n"
     ]
    }
   ],
   "source": [
    "# Testing the linear correlation of DPH and PHpAPD: \n",
    "# DPH[i] = w[i]*PHpAPD[i] for all i in facility_ids.\n",
    "cols = ['facility_id','DPH','PHpAPD']\n",
    "\n",
    "# Estimate the weights, w[i], via w[i] = mean(DPH)[i]/mean(PHpAPD)[i]\n",
    "df_copy = df.copy()[cols].dropna()\n",
    "LR_weights = df_copy.groupby(['facility_id']).mean().apply(\n",
    "    lambda x: x[0]/(x[1]+0.000001), axis=1).rename('LR_weights').reset_index()\n",
    "\n",
    "# Compute the predictions of linear model: \n",
    "# DPH_predictions[i] = w[i] * PHpAPD[i]\n",
    "linear_predictions = LR_weights.merge(\n",
    "    df_copy[cols], 'right', on=['facility_id'])[['LR_weights','PHpAPD']].apply(\n",
    "    lambda x: x[0]*x[1], axis=1).to_numpy()\n",
    "\n",
    "# Evaluate R-squared score for the model\n",
    "r2_linear = cfns.r2_score(df_copy.DPH.to_numpy(), linear_predictions)\n",
    "\n",
    "# Print results\n",
    "print('Assuming a linear correlation between DPH and PHpAPD yields an R-squared score of:\\n',\n",
    "      np.round(r2_linear,4))"
   ]
  },
  {
   "cell_type": "code",
   "execution_count": 35,
   "id": "4a38cb2e-5c72-420b-9d07-1aa659cc34a6",
   "metadata": {},
   "outputs": [
    {
     "name": "stdout",
     "output_type": "stream",
     "text": [
      "The linear model for facility id=106191216 yields the R-squared score of:\n",
      " 0.7059\n"
     ]
    }
   ],
   "source": [
    "# Collect all the complete data for the facility 106191216 (remove the outliers)\n",
    "mask = (df['facility_id']==fid) & (df['Type of Control']==toc) & (df['PHpAPD'].notna())\n",
    "threshold = np.quantile(df[mask].PHpAPD.to_numpy(),0.9)\n",
    "mask = mask & (df['PHpAPD'] < threshold)\n",
    "X = df[mask].PHpAPD.to_numpy()\n",
    "Y = df[mask].DPH.to_numpy()\n",
    "\n",
    "# Use the estimated Linear Regression weight from above\n",
    "weight_106191216 = LR_weights[LR_weights.facility_id == fid].LR_weights.to_numpy()[0]\n",
    "y = weight_106191216*X\n",
    "\n",
    "# Evaluate R-squared score for the fitted line\n",
    "r_squared_106191216 = cfns.r2_score(Y,y)\n",
    "\n",
    "# Print the results\n",
    "print('The linear model for facility id=106191216 yields the R-squared score of:\\n',\n",
    "      np.round(r_squared_106191216,4))"
   ]
  },
  {
   "cell_type": "markdown",
   "id": "40dff0e4-9d00-4ac1-8cea-d315d119f07a",
   "metadata": {},
   "source": [
    "##### Infer the missing values using the linear model"
   ]
  },
  {
   "cell_type": "code",
   "execution_count": 36,
   "id": "c5a25aae-929d-4ab9-a520-e94532affbfb",
   "metadata": {},
   "outputs": [
    {
     "data": {
      "image/png": "[encoded data removed]",
      "text/plain": [
       "<Figure size 640x480 with 1 Axes>"
      ]
     },
     "metadata": {},
     "output_type": "display_data"
    }
   ],
   "source": [
    "# Infer the values using model.predict\n",
    "inferred_missing_values = df.loc[missing_PHpAPD_indices].DPH.to_numpy()/weight_106191216\n",
    "\n",
    "# Fill in the missing values\n",
    "df.loc[missing_PHpAPD_indices, ['PHpAPD']] = inferred_missing_values\n",
    "\n",
    "# Plot\n",
    "mask = cfns.df_mask(df, {'facility_id':fid, 'Type of Control':toc})\n",
    "years = np.arange(2010,2014, 1)\n",
    "X = {y:df[mask & (df['Year'] == y)].PHpAPD for y in years}\n",
    "Y = {y:df[mask & (df['Year'] == y)].DPH for y in years}\n",
    "colors = cfns.random_colors(years, 1)\n",
    "\n",
    "# Plot the data for each year\n",
    "fig = plt.figure()\n",
    "for y in years:\n",
    "    plt.scatter(X[y], Y[y], 5, colors[y], label=f'{y}'.replace(\n",
    "        '2012', '2012 (inferred)'))\n",
    "\n",
    "plt.title('Enteries for {} facility with id={}'.format(\n",
    "    toc, fid))\n",
    "plt.xlabel('Productive Hours per Adjust Patient Day')\n",
    "plt.ylabel('Daily Productive Hours')\n",
    "plt.legend(loc=\"lower right\", fontsize=6)\n",
    "\n",
    "plt.show()"
   ]
  },
  {
   "cell_type": "code",
   "execution_count": 37,
   "id": "225444cd-ec86-45fb-8f96-fa85f252ea4b",
   "metadata": {},
   "outputs": [
    {
     "data": {
      "text/plain": [
       "Year                0\n",
       "Begin Date          0\n",
       "End Date            0\n",
       "County Name         0\n",
       "Type of Control     0\n",
       "Hours Type          0\n",
       "Productive Hours    0\n",
       "PHpAPD              0\n",
       "facility_id         0\n",
       "duration            0\n",
       "DPH                 0\n",
       "dtype: int64"
      ]
     },
     "execution_count": 37,
     "metadata": {},
     "output_type": "execute_result"
    }
   ],
   "source": [
    "# And that should be all the missing values\n",
    "df.isna().sum()"
   ]
  },
  {
   "cell_type": "markdown",
   "id": "5c317274-1874-4e63-a39a-b127641d8641",
   "metadata": {},
   "source": [
    "### Time window\n",
    "\n",
    "Before we go any further, we need check the resolution of the data. Since we will be treating the data as a time series, we need to find the smallest time window for which we can perform valid quantitative analysis.\n",
    "\n",
    "We can check (see plot below) that the vast majority of the entries have duration~1 year. Simply put, we do not have the resolution to analyze the data with smaller time windows and thus can only choose the window size time_step = 1 year."
   ]
  },
  {
   "cell_type": "code",
   "execution_count": 38,
   "id": "9b48c733-200f-4494-8cea-5ac24755de8d",
   "metadata": {},
   "outputs": [
    {
     "name": "stdout",
     "output_type": "stream",
     "text": [
      "The number of entries with duration < 190 days / total number of entries = 119 / 37519\n"
     ]
    }
   ],
   "source": [
    "# Count the number of entries with duration of less than 190 days\n",
    "print('The number of entries with duration < 190 days / total number of entries =',\n",
    "      '{} / {}'.format(np.sum(df.duration.dt.days < 100), df.shape[0]))"
   ]
  },
  {
   "cell_type": "code",
   "execution_count": 39,
   "id": "0c1bddfd-452d-4691-81c9-de4045908434",
   "metadata": {},
   "outputs": [
    {
     "data": {
      "image/png": "[encoded data removed]",
      "text/plain": [
       "<Figure size 640x480 with 1 Axes>"
      ]
     },
     "metadata": {},
     "output_type": "display_data"
    }
   ],
   "source": [
    "# Plot the distribution of values for the duration column\n",
    "x, y = cfns.bucketize(df.duration.dt.days.to_numpy(), 10)\n",
    "\n",
    "plt.bar(np.round(x), y, width=16)\n",
    "plt.xlabel('duration (days)')\n",
    "plt.ylabel('number of entries')\n",
    "\n",
    "plt.show()"
   ]
  },
  {
   "cell_type": "markdown",
   "id": "6930cd32-a339-4041-b6ae-dec3a48c61f1",
   "metadata": {},
   "source": [
    "Trends/seasonality:\n",
    "\n",
    "With time_step=1 year, seasonality can be ruled out altogether. That leaves us with possible trends, a cursory look at the plots of \"Productive Hours per Adjusted Patient Day\" and \"Daily Productive Hours\" reveals no major or obvious trends. We can leave a detailed analysis to our machine learning models."
   ]
  },
  {
   "cell_type": "markdown",
   "id": "ee19bc2c-091b-4861-907d-29875aa92fda",
   "metadata": {},
   "source": [
    "### Time series availability\n",
    "\n",
    "With time window of 1 year, we need to check the length of the time series available for each facility, type of control and hour type."
   ]
  },
  {
   "cell_type": "code",
   "execution_count": 40,
   "id": "297f7656-bab6-4023-8bd3-784fe2a30a51",
   "metadata": {},
   "outputs": [
    {
     "data": {
      "text/html": [
       "<div>\n",
       "<style scoped>\n",
       "    .dataframe tbody tr th:only-of-type {\n",
       "        vertical-align: middle;\n",
       "    }\n",
       "\n",
       "    .dataframe tbody tr th {\n",
       "        vertical-align: top;\n",
       "    }\n",
       "\n",
       "    .dataframe thead th {\n",
       "        text-align: right;\n",
       "    }\n",
       "</style>\n",
       "<table border=\"1\" class=\"dataframe\">\n",
       "  <thead>\n",
       "    <tr style=\"text-align: right;\">\n",
       "      <th></th>\n",
       "      <th>facility_id</th>\n",
       "      <th>Type of Control</th>\n",
       "      <th>Hours Type</th>\n",
       "    </tr>\n",
       "    <tr>\n",
       "      <th>seq_len</th>\n",
       "      <th></th>\n",
       "      <th></th>\n",
       "      <th></th>\n",
       "    </tr>\n",
       "  </thead>\n",
       "  <tbody>\n",
       "    <tr>\n",
       "      <th>1</th>\n",
       "      <td>21</td>\n",
       "      <td>3</td>\n",
       "      <td>17</td>\n",
       "    </tr>\n",
       "    <tr>\n",
       "      <th>2</th>\n",
       "      <td>20</td>\n",
       "      <td>4</td>\n",
       "      <td>17</td>\n",
       "    </tr>\n",
       "    <tr>\n",
       "      <th>3</th>\n",
       "      <td>17</td>\n",
       "      <td>4</td>\n",
       "      <td>17</td>\n",
       "    </tr>\n",
       "    <tr>\n",
       "      <th>4</th>\n",
       "      <td>25</td>\n",
       "      <td>4</td>\n",
       "      <td>17</td>\n",
       "    </tr>\n",
       "    <tr>\n",
       "      <th>5</th>\n",
       "      <td>399</td>\n",
       "      <td>5</td>\n",
       "      <td>17</td>\n",
       "    </tr>\n",
       "  </tbody>\n",
       "</table>\n",
       "</div>"
      ],
      "text/plain": [
       "         facility_id  Type of Control  Hours Type\n",
       "seq_len                                          \n",
       "1                 21                3          17\n",
       "2                 20                4          17\n",
       "3                 17                4          17\n",
       "4                 25                4          17\n",
       "5                399                5          17"
      ]
     },
     "execution_count": 40,
     "metadata": {},
     "output_type": "execute_result"
    }
   ],
   "source": [
    "# Create a copy of df and check the number length of the sequence available\n",
    "# for each unique set of values in group_cols:\n",
    "group_cols = ['facility_id','Type of Control','Hours Type']\n",
    "ts_df = df.copy().groupby(group_cols).Year.count().rename('seq_len')\n",
    "\n",
    "# Print a report on the distribution of unique values\n",
    "ts_df.reset_index().groupby(['seq_len']).nunique()"
   ]
  },
  {
   "cell_type": "code",
   "execution_count": 41,
   "id": "affdfb57-e93c-48c8-be58-adab881ca14c",
   "metadata": {},
   "outputs": [],
   "source": [
    "# Merge df and ts_df to add the new column, seq_len, to df.\n",
    "df = df.merge(ts_df, 'left', on=group_cols)\n",
    "\n",
    "# Keep a copy of the original dataframe\n",
    "df_original = df.copy()\n",
    "\n",
    "# Drop all entries with less than 3 consecutive reports\n",
    "df = df[df.seq_len>2]"
   ]
  },
  {
   "cell_type": "markdown",
   "id": "b6cfa9eb-aed2-4f06-917b-2e87f5679412",
   "metadata": {},
   "source": [
    "## Standardization and vectorization\n",
    "\n",
    "Before we go further in our analysis of the date, we should standardize the quantitative columns, 'Productive Hours' and 'Productive Hours per Adjusted Patient Day' and vectorize the categorical columns."
   ]
  },
  {
   "cell_type": "markdown",
   "id": "e4476b87-1cb1-4448-90fe-24f2bcaf2027",
   "metadata": {},
   "source": [
    "### Categorical columns\n",
    "\n",
    "Most of the columns have categorical values. We will first treat the columns with relatively few categories, namely, 'Year', 'County Name', 'Type of Control' and 'Hours Type'. The latter 3 take string values."
   ]
  },
  {
   "cell_type": "code",
   "execution_count": 42,
   "id": "07816780-04d0-4b88-8784-19000a068b6d",
   "metadata": {},
   "outputs": [
    {
     "data": {
      "text/plain": [
       "Year                          int64\n",
       "Begin Date           datetime64[ns]\n",
       "End Date             datetime64[ns]\n",
       "County Name                  string\n",
       "Type of Control              string\n",
       "Hours Type                   string\n",
       "Productive Hours              int64\n",
       "PHpAPD                      float64\n",
       "facility_id                   int64\n",
       "duration            timedelta64[ns]\n",
       "DPH                         float64\n",
       "seq_len                       int64\n",
       "dtype: object"
      ]
     },
     "execution_count": 42,
     "metadata": {},
     "output_type": "execute_result"
    }
   ],
   "source": [
    "# List the categorical columns\n",
    "categorical_cols = ['Year',\n",
    "                    'facility_id',\n",
    "                    'County Name',\n",
    "                    'Type of Control',\n",
    "                    'Hours Type']\n",
    "\n",
    "# Change dtype for categorical_cols[2:] to string\n",
    "for col in categorical_cols[2:]:\n",
    "    df[col] = df[col].astype(\"string\")\n",
    "\n",
    "# Print out the data types\n",
    "df.dtypes"
   ]
  },
  {
   "cell_type": "code",
   "execution_count": 43,
   "id": "19ada1d0-d001-4d0e-98d7-a5cd095ffda3",
   "metadata": {},
   "outputs": [
    {
     "name": "stdout",
     "output_type": "stream",
     "text": [
      "New column, \"y\", was created.\n",
      "New column, \"fid\", was created.\n",
      "New column, \"county\", was created.\n",
      "New column, \"toc\", was created.\n",
      "New column, \"ht\", was created.\n"
     ]
    }
   ],
   "source": [
    "# Define new names for the vectorized columns\n",
    "vectorized_cols = ['y', 'fid', 'county', 'toc', 'ht']\n",
    "\n",
    "# Vectorize categorical columns\n",
    "vec2cat_dicts = {}\n",
    "cat2vec_dicts = {}\n",
    "\n",
    "for vcol, col in zip(vectorized_cols, categorical_cols):\n",
    "    vec2cat_dicts[vcol] = {v:c for v,c in enumerate(df[col].unique())}\n",
    "    cat2vec_dicts[col] = {c:v for v,c in enumerate(df[col].unique())}\n",
    "\n",
    "# Create new columns with vectorized values for each categorical column\n",
    "for vcol, col in zip(vectorized_cols, categorical_cols):\n",
    "    df[vcol] = df[col].map(cat2vec_dicts[col]).astype(\"int\")\n",
    "    print('New column, \"{}\", was created.'.format(vcol))"
   ]
  },
  {
   "cell_type": "code",
   "execution_count": 44,
   "id": "a228d7e4-1abf-4522-9c0b-c237cf77f5be",
   "metadata": {},
   "outputs": [
    {
     "name": "stdout",
     "output_type": "stream",
     "text": [
      "Column data types:\n",
      " PHpAPD              float64\n",
      "duration    timedelta64[ns]\n",
      "DPH                 float64\n",
      "seq_len               int64\n",
      "y                     int64\n",
      "fid                   int64\n",
      "county                int64\n",
      "toc                   int64\n",
      "ht                    int64\n",
      "dtype: object\n"
     ]
    }
   ],
   "source": [
    "# Drop the original categorical columns as well as the \n",
    "# Begin Date, End Date and Productive Hours columns.\n",
    "drop_cols = categorical_cols+['Begin Date', 'End Date', 'Productive Hours']\n",
    "df = df.drop(columns=drop_cols)\n",
    "\n",
    "# Print data types for remaining columns\n",
    "print('Column data types:\\n', df.dtypes)"
   ]
  },
  {
   "cell_type": "markdown",
   "id": "8dd9b237-08c5-43c7-95fc-ada5a8b0f81b",
   "metadata": {},
   "source": [
    "### Productive Hours (DPH and PHpAPD)\n",
    "\n",
    "Since \"Daily Productive Hours\" and \"Productive Hours per Adjusted Patient Day\" are linearly correlated for each facility, their distribution will take a similar shape.\n",
    "\n",
    "We will refrain from applying any convoluted transformation (such as Quantile transformation) to change the shape of the data and will only apply a simple scaling factor to normalize the variance."
   ]
  },
  {
   "cell_type": "code",
   "execution_count": 45,
   "id": "79abf690-eee5-4ec5-8e74-ea87bacb6e4e",
   "metadata": {},
   "outputs": [
    {
     "data": {
      "image/png": "[encoded data removed]",
      "text/plain": [
       "<Figure size 1000x500 with 2 Axes>"
      ]
     },
     "metadata": {},
     "output_type": "display_data"
    }
   ],
   "source": [
    "# Plot the distribution of values for the DPH and the PHpAPD columns\n",
    "x0, y0 = cfns.bucketize(df.DPH.to_numpy(), 100)\n",
    "x1, y1 = cfns.bucketize(df.PHpAPD.to_numpy(), 100)\n",
    "\n",
    "\n",
    "# Plot the data for different Hours Type\n",
    "fig, axs = plt.subplots(1,2, sharey=True)\n",
    "fig.set_figheight(5)\n",
    "fig.set_figwidth(10)\n",
    "axs[0].bar(x0, y0, width=300)\n",
    "axs[0].set_xlim(0,10000)\n",
    "axs[0].set_xlabel('Daily Productive Hours')\n",
    "axs[1].bar(x1, y1, width=1.5)\n",
    "axs[1].set_xlim(0,50)\n",
    "axs[1].set_xlabel('Productive Hours per Adjusted Patient Day')\n",
    "fig.supylabel('number of entries')\n",
    "plt.show()"
   ]
  },
  {
   "cell_type": "code",
   "execution_count": 46,
   "id": "73bcb25a-95a7-4c35-b5a5-099524cc732f",
   "metadata": {},
   "outputs": [],
   "source": [
    "# Set the number of buckets\n",
    "num_b = 1024\n",
    "\n",
    "# Compute standard deviation for DPH and PHpAPD\n",
    "scale_factors = {'DPH':cfns.fit_gaussian(df.DPH.to_numpy(),num_buckets=num_b).std,\n",
    "                 'PHpAPD':cfns.fit_gaussian(df.PHpAPD.to_numpy(), num_buckets=num_b).std}\n",
    "\n",
    "# Rescale data\n",
    "for col in scale_factors.keys():\n",
    "    df[col] = df[col]/scale_factors[col]"
   ]
  },
  {
   "cell_type": "code",
   "execution_count": 47,
   "id": "94bd7c56-25b9-4189-9b2d-5a200feef457",
   "metadata": {},
   "outputs": [
    {
     "data": {
      "image/png": "[encoded data removed]",
      "text/plain": [
       "<Figure size 640x480 with 1 Axes>"
      ]
     },
     "metadata": {},
     "output_type": "display_data"
    }
   ],
   "source": [
    "# Plot the distribution of rescaled values for DPH and PHpAPD columns\n",
    "x1, y1 = cfns.bucketize(df.DPH.to_numpy(), 101)\n",
    "x2, y2 = cfns.bucketize(df.PHpAPD.to_numpy(), 101)\n",
    "\n",
    "plt.plot(x1, y1, 'b', label='DPH') \n",
    "plt.plot(x2, y2, 'r', label='PHpAPD')\n",
    "plt.xlim(0,4)\n",
    "plt.xlabel('rescaled productive hours')\n",
    "plt.ylabel('number of entries')\n",
    "plt.legend()\n",
    "\n",
    "plt.show()"
   ]
  },
  {
   "cell_type": "markdown",
   "id": "1149f443-0bd9-468f-8327-4931f02180ad",
   "metadata": {},
   "source": [
    "## Time series\n",
    "\n",
    "Now that we have standardized and vectorized the data, we are ready to form our time series. We can do so by simply pivoting the dataframe."
   ]
  },
  {
   "cell_type": "code",
   "execution_count": 48,
   "id": "710bdd59-5ba8-40ed-8cdd-9cf1680456bb",
   "metadata": {},
   "outputs": [
    {
     "data": {
      "text/plain": [
       "Index(['PHpAPD', 'duration', 'DPH', 'seq_len', 'y', 'fid', 'county', 'toc',\n",
       "       'ht'],\n",
       "      dtype='object')"
      ]
     },
     "execution_count": 48,
     "metadata": {},
     "output_type": "execute_result"
    }
   ],
   "source": [
    "df.columns"
   ]
  },
  {
   "cell_type": "code",
   "execution_count": 49,
   "id": "6f313b64-839b-4213-9128-a867cc190fd6",
   "metadata": {},
   "outputs": [
    {
     "data": {
      "text/html": [
       "<div>\n",
       "<style scoped>\n",
       "    .dataframe tbody tr th:only-of-type {\n",
       "        vertical-align: middle;\n",
       "    }\n",
       "\n",
       "    .dataframe tbody tr th {\n",
       "        vertical-align: top;\n",
       "    }\n",
       "\n",
       "    .dataframe thead tr th {\n",
       "        text-align: left;\n",
       "    }\n",
       "\n",
       "    .dataframe thead tr:last-of-type th {\n",
       "        text-align: right;\n",
       "    }\n",
       "</style>\n",
       "<table border=\"1\" class=\"dataframe\">\n",
       "  <thead>\n",
       "    <tr>\n",
       "      <th></th>\n",
       "      <th></th>\n",
       "      <th></th>\n",
       "      <th></th>\n",
       "      <th colspan=\"5\" halign=\"left\">DPH</th>\n",
       "      <th colspan=\"5\" halign=\"left\">PHpAPD</th>\n",
       "    </tr>\n",
       "    <tr>\n",
       "      <th></th>\n",
       "      <th></th>\n",
       "      <th></th>\n",
       "      <th>y</th>\n",
       "      <th>0</th>\n",
       "      <th>1</th>\n",
       "      <th>2</th>\n",
       "      <th>3</th>\n",
       "      <th>4</th>\n",
       "      <th>0</th>\n",
       "      <th>1</th>\n",
       "      <th>2</th>\n",
       "      <th>3</th>\n",
       "      <th>4</th>\n",
       "    </tr>\n",
       "    <tr>\n",
       "      <th>fid</th>\n",
       "      <th>county</th>\n",
       "      <th>toc</th>\n",
       "      <th>ht</th>\n",
       "      <th></th>\n",
       "      <th></th>\n",
       "      <th></th>\n",
       "      <th></th>\n",
       "      <th></th>\n",
       "      <th></th>\n",
       "      <th></th>\n",
       "      <th></th>\n",
       "      <th></th>\n",
       "      <th></th>\n",
       "    </tr>\n",
       "  </thead>\n",
       "  <tbody>\n",
       "    <tr>\n",
       "      <th>0</th>\n",
       "      <th>0</th>\n",
       "      <th>0</th>\n",
       "      <th>0</th>\n",
       "      <td>0.152037</td>\n",
       "      <td>0.15639</td>\n",
       "      <td>0.152671</td>\n",
       "      <td>0.147307</td>\n",
       "      <td>0.147497</td>\n",
       "      <td>0.271239</td>\n",
       "      <td>0.287467</td>\n",
       "      <td>0.322241</td>\n",
       "      <td>0.312968</td>\n",
       "      <td>0.14837</td>\n",
       "    </tr>\n",
       "  </tbody>\n",
       "</table>\n",
       "</div>"
      ],
      "text/plain": [
       "                        DPH                                           PHpAPD  \\\n",
       "y                         0        1         2         3         4         0   \n",
       "fid county toc ht                                                              \n",
       "0   0      0   0   0.152037  0.15639  0.152671  0.147307  0.147497  0.271239   \n",
       "\n",
       "                                                          \n",
       "y                         1         2         3        4  \n",
       "fid county toc ht                                         \n",
       "0   0      0   0   0.287467  0.322241  0.312968  0.14837  "
      ]
     },
     "execution_count": 49,
     "metadata": {},
     "output_type": "execute_result"
    }
   ],
   "source": [
    "# Set index columns and drop 'duration' and 'seq_len' columns\n",
    "index_cols = ['fid','county','toc','ht']\n",
    "df = df.set_index(index_cols)[['y','DPH','PHpAPD']]\n",
    "\n",
    "# Pivot\n",
    "df = df.pivot(columns='y')\n",
    "\n",
    "df.head(1)"
   ]
  },
  {
   "cell_type": "code",
   "execution_count": 50,
   "id": "4c8346db-5e40-4d10-982f-a3a12bc17d2e",
   "metadata": {},
   "outputs": [],
   "source": [
    "# Fill null values (for entries with seq_len<5) with 0.0\n",
    "df = df.fillna(0.0)"
   ]
  },
  {
   "cell_type": "code",
   "execution_count": 51,
   "id": "928a57a0-c04d-4962-a415-a720e365afd2",
   "metadata": {},
   "outputs": [
    {
     "name": "stdout",
     "output_type": "stream",
     "text": [
      "1166 rows were dropped.\n"
     ]
    }
   ],
   "source": [
    "# Drop all entries for which at least 4 out of 5 values are 0.\n",
    "index_mostly_0s = df[(df.DPH==0).sum(axis=1) > 3].index\n",
    "df = df.drop(index=index_mostly_0s)\n",
    "\n",
    "print(f'{len(index_mostly_0s)} rows were dropped.')"
   ]
  },
  {
   "cell_type": "markdown",
   "id": "ea0d69aa-225a-49ca-a569-d6796f458066",
   "metadata": {},
   "source": [
    "## Models\n",
    "\n",
    "Our dataset has been cleaned, standardized and vectorized and is now almost ready to be used for machine learning. We will focus on recurrent neural networks that predict the next element in a sequence. These are the neural network analogues of auto-regressive models. To train such models we need a training dataset that pairs truncated sequences with the next element as depicted below:\n",
    "\n",
    "```\n",
    "[x[0], x[1], x[2], x[3], x[4]] ---> ([x[0],x[1],x[2],x[3]] , [x[1],x[2],x[3]],x[4]])\n",
    "```"
   ]
  },
  {
   "cell_type": "code",
   "execution_count": 95,
   "id": "43319ef0-6e7c-4f26-b3a0-601171372cb9",
   "metadata": {},
   "outputs": [
    {
     "data": {
      "text/plain": [
       "[(<tf.Tensor: shape=(512, 4), dtype=float64, numpy=\n",
       "  array([[0.13682539, 0.15742371, 0.1596986 , 0.15926106],\n",
       "         [1.15858447, 1.20466099, 1.34548835, 1.43749804],\n",
       "         [0.        , 0.        , 0.0877755 , 0.08975119],\n",
       "         ...,\n",
       "         [0.04421786, 0.0301069 , 0.02445438, 0.0407498 ],\n",
       "         [1.88750339, 1.38857236, 1.24233886, 1.30761252],\n",
       "         [1.94365062, 2.01409062, 2.17827439, 2.14914292]])>,\n",
       "  <tf.Tensor: shape=(512, 4), dtype=float64, numpy=\n",
       "  array([[0.15742371, 0.1596986 , 0.15926106, 0.16850868],\n",
       "         [1.20466099, 1.34548835, 1.43749804, 1.54482873],\n",
       "         [0.        , 0.0877755 , 0.08975119, 0.11677964],\n",
       "         ...,\n",
       "         [0.0301069 , 0.02445438, 0.0407498 , 0.04686352],\n",
       "         [1.38857236, 1.24233886, 1.30761252, 1.84793098],\n",
       "         [2.01409062, 2.17827439, 2.14914292, 2.18086263]])>)]"
      ]
     },
     "execution_count": 95,
     "metadata": {},
     "output_type": "execute_result"
    }
   ],
   "source": [
    "list(train_ds.take(1))"
   ]
  },
  {
   "cell_type": "code",
   "execution_count": 81,
   "id": "28a0eaa5-3206-4972-a879-24eade1411cc",
   "metadata": {},
   "outputs": [],
   "source": [
    "# Set the batch size, sequence length and seed for random shuffle.\n",
    "batch_size = 512\n",
    "seq_len = 4\n",
    "seed = 7\n",
    "\n",
    "# Set parallelization parameter\n",
    "num_cores = 12\n",
    "\n",
    "# Select the DPH column and shuffle\n",
    "data = df.DPH.to_numpy()\n",
    "shuffle_index = shuffle(np.arange(data.shape[0]), random_state=13)\n",
    "data = data[shuffle_index]\n",
    "\n",
    "# Split as training (70%), validation (20%) and testing (10%).\n",
    "l = data.shape[0]\n",
    "data = [data[int(x[0]*l):int(x[1]*l)] for x in [[0,0.7],[0.7,0.9],[0.9,1]]]\n",
    "\n",
    "# Create the datasets \n",
    "train_ds = tf.data.Dataset.from_tensor_slices(\n",
    "    (data[0][:,:-1], data[0][:,1:])).batch(batch_size)\n",
    "valid_ds = tf.data.Dataset.from_tensor_slices(\n",
    "    (data[1][:,:-1], data[1][:,1:])).batch(batch_size)\n",
    "test_ds = tf.data.Dataset.from_tensor_slices(\n",
    "    (data[2][:,:-1], data[2][:,1:])).batch(batch_size)"
   ]
  },
  {
   "cell_type": "markdown",
   "id": "8535dc12-6316-4dae-b074-ebf971d426c1",
   "metadata": {},
   "source": [
    "### Baseline model (no features)\n",
    "\n",
    "We start by setting a baseline by building and training a simple RNN model for predicting the (rescaled) Daily Productive Hours without incorporating any other features."
   ]
  },
  {
   "cell_type": "code",
   "execution_count": 97,
   "id": "b3c5a7f9-075c-4c10-8a7d-8ce8e97b3a15",
   "metadata": {},
   "outputs": [],
   "source": [
    "# Set model parameters\n",
    "r_units = 4\n",
    "\n",
    "# Initialize the baseline model\n",
    "baseline_model = keras.Sequential(\n",
    "    [layers.Reshape((-1,1)),\n",
    "     layers.GRU(r_units, return_sequences=True),\n",
    "     layers.Dropout(0.5),\n",
    "     layers.Dense(1, activation='relu')])\n",
    "\n",
    "\n",
    "# Choose loss, optimizer, evaluation metrics and callbacks\n",
    "loss = keras.losses.mean_squared_error\n",
    "optimizer = keras.optimizers.Adam(learning_rate=0.0005)\n",
    "metrics = keras.metrics.mean_absolute_error\n",
    "callback = keras.callbacks.EarlyStopping(\n",
    "    monitor=\"val_mean_absolute_error\",\n",
    "    patience=4,\n",
    "    restore_best_weights=True)\n",
    "\n",
    "# Compile model\n",
    "baseline_model.compile(loss='mse', optimizer='adam', metrics=['mean_absolute_error'])"
   ]
  },
  {
   "cell_type": "code",
   "execution_count": 98,
   "id": "14024a67-c693-497f-860c-23ad3f59d537",
   "metadata": {},
   "outputs": [
    {
     "name": "stdout",
     "output_type": "stream",
     "text": [
      "Epoch 1/20\n",
      "9/9 [==============================] - 3s 71ms/step - loss: 1.2259 - mean_absolute_error: 0.4882 - val_loss: 1.0962 - val_mean_absolute_error: 0.5003\n",
      "Epoch 2/20\n",
      "9/9 [==============================] - 0s 35ms/step - loss: 1.2012 - mean_absolute_error: 0.4671 - val_loss: 1.0486 - val_mean_absolute_error: 0.4776\n",
      "Epoch 3/20\n",
      "9/9 [==============================] - 0s 13ms/step - loss: 1.1633 - mean_absolute_error: 0.4525 - val_loss: 1.0046 - val_mean_absolute_error: 0.4602\n",
      "Epoch 4/20\n",
      "9/9 [==============================] - 0s 13ms/step - loss: 1.1459 - mean_absolute_error: 0.4440 - val_loss: 0.9633 - val_mean_absolute_error: 0.4475\n",
      "Epoch 5/20\n",
      "9/9 [==============================] - 0s 13ms/step - loss: 1.1024 - mean_absolute_error: 0.4364 - val_loss: 0.9249 - val_mean_absolute_error: 0.4388\n",
      "Epoch 6/20\n",
      "9/9 [==============================] - 0s 13ms/step - loss: 1.0851 - mean_absolute_error: 0.4333 - val_loss: 0.8892 - val_mean_absolute_error: 0.4322\n",
      "Epoch 7/20\n",
      "9/9 [==============================] - 0s 14ms/step - loss: 1.0485 - mean_absolute_error: 0.4314 - val_loss: 0.8556 - val_mean_absolute_error: 0.4267\n",
      "Epoch 8/20\n",
      "9/9 [==============================] - 0s 11ms/step - loss: 1.0213 - mean_absolute_error: 0.4304 - val_loss: 0.8232 - val_mean_absolute_error: 0.4211\n",
      "Epoch 9/20\n",
      "9/9 [==============================] - 0s 14ms/step - loss: 0.9869 - mean_absolute_error: 0.4253 - val_loss: 0.7920 - val_mean_absolute_error: 0.4146\n",
      "Epoch 10/20\n",
      "9/9 [==============================] - 0s 16ms/step - loss: 0.9643 - mean_absolute_error: 0.4216 - val_loss: 0.7611 - val_mean_absolute_error: 0.4070\n",
      "Epoch 11/20\n",
      "9/9 [==============================] - 0s 12ms/step - loss: 0.9376 - mean_absolute_error: 0.4161 - val_loss: 0.7308 - val_mean_absolute_error: 0.3981\n",
      "Epoch 12/20\n",
      "9/9 [==============================] - 0s 11ms/step - loss: 0.9279 - mean_absolute_error: 0.4111 - val_loss: 0.7010 - val_mean_absolute_error: 0.3880\n",
      "Epoch 13/20\n",
      "9/9 [==============================] - 0s 12ms/step - loss: 0.8885 - mean_absolute_error: 0.3991 - val_loss: 0.6718 - val_mean_absolute_error: 0.3771\n",
      "Epoch 14/20\n",
      "9/9 [==============================] - 0s 11ms/step - loss: 0.8592 - mean_absolute_error: 0.3881 - val_loss: 0.6425 - val_mean_absolute_error: 0.3655\n",
      "Epoch 15/20\n",
      "9/9 [==============================] - 0s 11ms/step - loss: 0.8466 - mean_absolute_error: 0.3811 - val_loss: 0.6136 - val_mean_absolute_error: 0.3534\n",
      "Epoch 16/20\n",
      "9/9 [==============================] - 0s 11ms/step - loss: 0.8405 - mean_absolute_error: 0.3745 - val_loss: 0.5856 - val_mean_absolute_error: 0.3411\n",
      "Epoch 17/20\n",
      "9/9 [==============================] - 0s 15ms/step - loss: 0.7934 - mean_absolute_error: 0.3622 - val_loss: 0.5579 - val_mean_absolute_error: 0.3286\n",
      "Epoch 18/20\n",
      "9/9 [==============================] - 0s 15ms/step - loss: 0.7738 - mean_absolute_error: 0.3527 - val_loss: 0.5307 - val_mean_absolute_error: 0.3157\n",
      "Epoch 19/20\n",
      "9/9 [==============================] - 0s 16ms/step - loss: 0.7521 - mean_absolute_error: 0.3435 - val_loss: 0.5050 - val_mean_absolute_error: 0.3028\n",
      "Epoch 20/20\n",
      "9/9 [==============================] - 0s 13ms/step - loss: 0.7451 - mean_absolute_error: 0.3362 - val_loss: 0.4809 - val_mean_absolute_error: 0.2899\n"
     ]
    }
   ],
   "source": [
    "# Train model\n",
    "baseline_history = baseline_model.fit(\n",
    "    train_ds, validation_data=valid_ds, callbacks=[callback], epochs=20, verbose=1)"
   ]
  },
  {
   "cell_type": "code",
   "execution_count": 99,
   "id": "c70f55b0-e818-4ca9-a359-09295b5024b4",
   "metadata": {},
   "outputs": [
    {
     "data": {
      "image/png": "[encoded data removed]",
      "text/plain": [
       "<Figure size 640x480 with 1 Axes>"
      ]
     },
     "metadata": {},
     "output_type": "display_data"
    }
   ],
   "source": [
    "# Plot training history\n",
    "\n",
    "plt.plot(np.arange(len(baseline_history.history['loss'])),\n",
    "         baseline_history.history['loss'],\n",
    "        'b', label='training')\n",
    "plt.plot(np.arange(len(baseline_history.history['loss'])),\n",
    "         baseline_history.history['val_loss'],\n",
    "         'r', label='validation')\n",
    "\n",
    "plt.xlabel('Epochs')\n",
    "plt.ylabel('Loss')\n",
    "plt.legend()\n",
    "\n",
    "plt.show()"
   ]
  },
  {
   "cell_type": "code",
   "execution_count": 100,
   "id": "96f82150-d6ee-4cb1-b711-3738549d102f",
   "metadata": {},
   "outputs": [
    {
     "name": "stdout",
     "output_type": "stream",
     "text": [
      "2/2 [==============================] - 0s 22ms/step - loss: 0.2282 - mean_absolute_error: 0.2220\n"
     ]
    },
    {
     "data": {
      "text/plain": [
       "[0.22818896174430847, 0.22204194962978363]"
      ]
     },
     "execution_count": 100,
     "metadata": {},
     "output_type": "execute_result"
    }
   ],
   "source": [
    "baseline_model.evaluate(test_ds)"
   ]
  },
  {
   "cell_type": "markdown",
   "id": "305ad3a1-cefd-4221-a7da-a3fca83a7889",
   "metadata": {},
   "source": [
    "### Sequence generator"
   ]
  },
  {
   "cell_type": "code",
   "execution_count": 101,
   "id": "0a2a4fdf-321a-4fa3-9391-20ef9b11991b",
   "metadata": {},
   "outputs": [],
   "source": [
    "# \n",
    "def seq_gen(seq, model, scale_factor=1.0, max_seq_len=8):\n",
    "    '''\n",
    "    '''\n",
    "    i = len(seq)-1\n",
    "    while i < max_seq_len:\n",
    "        # Infer next element of the sequence\n",
    "        target = model.predict([seq], verbose=0)[i,0]\n",
    "        # Add the inferred target to sequence\n",
    "        seq = np.concatenate([seq, target])\n",
    "        i+=1\n",
    "    return seq*scale_factor"
   ]
  },
  {
   "cell_type": "code",
   "execution_count": 102,
   "id": "5a59402b-7f00-4a66-a82e-efbe6630e037",
   "metadata": {},
   "outputs": [
    {
     "name": "stdout",
     "output_type": "stream",
     "text": [
      "WARNING:tensorflow:Layers in a Sequential model should only have a single input tensor. Received: inputs=(<tf.Tensor 'IteratorGetNext:0' shape=(None,) dtype=float32>,). Consider rewriting this model with the Functional API.\n",
      "WARNING:tensorflow:Model was constructed with shape (None, 4) for input KerasTensor(type_spec=TensorSpec(shape=(None, 4), dtype=tf.float64, name='reshape_10_input'), name='reshape_10_input', description=\"created by layer 'reshape_10_input'\"), but it was called on an input with incompatible shape (None,).\n"
     ]
    },
    {
     "data": {
      "text/plain": [
       "array([2.62300535, 2.59861795, 2.45605153, 2.4686622 , 1.08558726,\n",
       "       0.61444116, 0.4053359 , 0.31054655, 0.26794761, 0.24895087,\n",
       "       0.24051525, 0.23677701, 0.23512197])"
      ]
     },
     "execution_count": 102,
     "metadata": {},
     "output_type": "execute_result"
    }
   ],
   "source": [
    "seq_gen(data[2][1,:4], baseline_model, max_seq_len=12)"
   ]
  },
  {
   "cell_type": "code",
   "execution_count": 104,
   "id": "0668cb48-81b7-4800-b691-6d8b8fa883ab",
   "metadata": {},
   "outputs": [
    {
     "data": {
      "text/plain": [
       "array([2.62300535, 2.59861795, 2.45605153, 2.4686622 , 2.47620732])"
      ]
     },
     "execution_count": 104,
     "metadata": {},
     "output_type": "execute_result"
    }
   ],
   "source": [
    "data[2][1]"
   ]
  },
  {
   "cell_type": "code",
   "execution_count": null,
   "id": "27054d47-aab7-4064-9158-7bebed77ffb7",
   "metadata": {},
   "outputs": [],
   "source": []
  }
 ],
 "metadata": {
  "kernelspec": {
   "display_name": "Python [conda env:pip]",
   "language": "python",
   "name": "conda-env-pip-py"
  },
  "language_info": {
   "codemirror_mode": {
    "name": "ipython",
    "version": 3
   },
   "file_extension": ".py",
   "mimetype": "text/x-python",
   "name": "python",
   "nbconvert_exporter": "python",
   "pygments_lexer": "ipython3",
   "version": "3.10.9"
  }
 },
 "nbformat": 4,
 "nbformat_minor": 5
}
